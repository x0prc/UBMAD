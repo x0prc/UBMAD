{
  "nbformat": 4,
  "nbformat_minor": 0,
  "metadata": {
    "colab": {
      "provenance": [],
      "authorship_tag": "ABX9TyOkLkaAF0VCaRpVHFUbjx7o"
    },
    "kernelspec": {
      "name": "python3",
      "display_name": "Python 3"
    },
    "language_info": {
      "name": "python"
    }
  },
  "cells": [
    {
      "cell_type": "markdown",
      "source": [
        "# Anomaly Detection Algorithms"
      ],
      "metadata": {
        "id": "lxxqNFEmo41C"
      }
    },
    {
      "cell_type": "code",
      "source": [
        "from sklearn.mixture import GaussianMixture\n",
        "from sklearn.neighbors import KernelDensity\n",
        "from sklearn.decomposition import PCA\n",
        "from sklearn.cluster import KMeans\n",
        "\n",
        "import numpy as np"
      ],
      "metadata": {
        "id": "HQT-2OXopzzx"
      },
      "execution_count": 1,
      "outputs": []
    },
    {
      "cell_type": "markdown",
      "source": [
        "**Gaussian Density Estimation**"
      ],
      "metadata": {
        "id": "H-f_nIaTo_5h"
      }
    },
    {
      "cell_type": "code",
      "source": [
        "def gaussian_density(data, n_components=1):\n",
        "  model = GaussianMixture(n_components=n_components)\n",
        "  model.fit(data)\n",
        "  densities = model.score_samples(data)\n",
        "  return densities"
      ],
      "metadata": {
        "id": "O3a59XYcpEzg"
      },
      "execution_count": null,
      "outputs": []
    },
    {
      "cell_type": "markdown",
      "source": [
        "**Parzen Window Density Estimation**"
      ],
      "metadata": {
        "id": "01B1ZcK0pTaa"
      }
    },
    {
      "cell_type": "code",
      "source": [
        "def parzen_window_density(data, bandwidth=1.0, kernel='epanechnikov'):\n",
        "  kde = KernelDensity(bandwidth=bandwidth, kernel=kernel)\n",
        "  kde.fit(data)\n",
        "  densities = np.exp(kde.score_samples(data))\n",
        "  return densities"
      ],
      "metadata": {
        "id": "BODvOrG2pXdc"
      },
      "execution_count": null,
      "outputs": []
    },
    {
      "cell_type": "markdown",
      "source": [
        "**Principal Component Analysis**"
      ],
      "metadata": {
        "id": "SVxndj_jpekZ"
      }
    },
    {
      "cell_type": "code",
      "source": [
        "def pca_transform(data, n_components=0.95):\n",
        "  pca = PCA(n_components=n_components)\n",
        "  pca.fit(data)\n",
        "  transformed_data = pca.transform(data)\n",
        "  explained_variance = pca.explained_variance_ratio_\n",
        "  return transformed_data, explained_variance"
      ],
      "metadata": {
        "id": "Dx3OjGsJplcH"
      },
      "execution_count": null,
      "outputs": []
    },
    {
      "cell_type": "markdown",
      "source": [
        "**K-means Clustering**"
      ],
      "metadata": {
        "id": "jHBnbq61pqll"
      }
    },
    {
      "cell_type": "code",
      "source": [
        "def kmeans_clustering(data, n_clusters):\n",
        "  kmeans = KMeans(n_clusters=n_clusters)\n",
        "  kmeans.fit(data)\n",
        "  cluster_labels = kmeans.predict(data)\n",
        "  centroids = kmeans.cluster_centers_\n",
        "  return cluster_labels, centroids"
      ],
      "metadata": {
        "id": "yd6yuBrWpswR"
      },
      "execution_count": null,
      "outputs": []
    }
  ]
}