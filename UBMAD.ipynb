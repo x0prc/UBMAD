{
  "nbformat": 4,
  "nbformat_minor": 0,
  "metadata": {
    "colab": {
      "provenance": [],
      "authorship_tag": "ABX9TyO3a13vU9K63c9bHOk7UvGf",
      "include_colab_link": true
    },
    "kernelspec": {
      "name": "python3",
      "display_name": "Python 3"
    },
    "language_info": {
      "name": "python"
    }
  },
  "cells": [
    {
      "cell_type": "markdown",
      "metadata": {
        "id": "view-in-github",
        "colab_type": "text"
      },
      "source": [
        "<a href=\"https://colab.research.google.com/github/x0prc/UBMAD/blob/main/UBMAD.ipynb\" target=\"_parent\"><img src=\"https://colab.research.google.com/assets/colab-badge.svg\" alt=\"Open In Colab\"/></a>"
      ]
    },
    {
      "cell_type": "markdown",
      "source": [
        "# Import Necessary Libraries\n",
        "Importing libraries required for running the model."
      ],
      "metadata": {
        "id": "NTGQqCCLCmoE"
      }
    },
    {
      "cell_type": "code",
      "source": [
        "#Pandas\n",
        "import pandas as pd\n",
        "\n",
        "#Scikit-Learn\n",
        "from sklearn.preprocessing import StandardScaler\n",
        "from sklearn.model_selection import train_test_split\n",
        "from sklearn.ensemble import IsolationForest\n",
        "from sklearn.decomposition import LatentDirichletAllocation\n",
        "from sklearn.neighbors import LocalOutlierFactor\n",
        "from sklearn.cluster import KMeans, AgglomerativeClustering\n",
        "from sklearn.metrics import silhouette_score\n",
        "from sklearn.svm import OneClassSVM\n",
        "\n",
        "#Topic Modeling\n",
        "import gensim"
      ],
      "metadata": {
        "id": "0TFyuRn3X_6D"
      },
      "execution_count": null,
      "outputs": []
    },
    {
      "cell_type": "markdown",
      "source": [
        "# Load Data\n",
        "Loading the data from CERT's website (Using R6.2 in this paper)."
      ],
      "metadata": {
        "id": "Jl7hUGamdNVy"
      }
    },
    {
      "cell_type": "code",
      "source": [
        "data = pd.read_csv('https://kilthub.cmu.edu/ndownloader/files/24844280/r6.2-1.csv')\n"
      ],
      "metadata": {
        "id": "HlFjCN1KdO_j"
      },
      "execution_count": null,
      "outputs": []
    },
    {
      "cell_type": "markdown",
      "source": [
        "# Data Preprocessing\n",
        "Establishing pre-requisites as mentioned in dataset."
      ],
      "metadata": {
        "id": "P_xZRsxha1Ud"
      }
    },
    {
      "cell_type": "code",
      "source": [
        "def insider_threat_detection(user_logs, emails, scaled_data):\n",
        "  df = pd.DataFrame(user_logs)\n",
        "  user_behavior_data = df[[\"user\", \"email\", \"date\", \"personal_computer\",\"activity\"]]\n",
        "  scaler = StandardScaler()\n",
        "  scaled_data = scaler.fit_transform(user_behavior_data)"
      ],
      "metadata": {
        "id": "RpFCqebFa3jR"
      },
      "execution_count": 3,
      "outputs": []
    },
    {
      "cell_type": "markdown",
      "source": [
        "# User Behavior Modeling\n",
        "Individual users’ heterogeneous behaviors are transformed into a structured dataset where each row is associated with  an instance (user-day, e-mail content, user-week)."
      ],
      "metadata": {
        "id": "Ij6eBOXHa8Xw"
      }
    },
    {
      "cell_type": "code",
      "source": [
        "# Using k-means clustering\n",
        "kmeans = KMeans(n_clusters=3)\n",
        "kmeans.fit(scaled_data)\n",
        "user_clusters = kmeans.labels_"
      ],
      "metadata": {
        "id": "-VNs_v7PbDul"
      },
      "execution_count": null,
      "outputs": []
    },
    {
      "cell_type": "markdown",
      "source": [
        "# Silhouette Score (Optional)\n",
        "Compute the mean Silhouette Coefficient"
      ],
      "metadata": {
        "id": "nmahzvvwfurM"
      }
    },
    {
      "cell_type": "code",
      "source": [
        "silhouette_avg = silhouette_score(scaled_data, user_clusters)\n",
        "print(\"Silhouette Score (KMeans):\", silhouette_avg)"
      ],
      "metadata": {
        "id": "YzP4o5bHf1pH"
      },
      "execution_count": null,
      "outputs": []
    },
    {
      "cell_type": "markdown",
      "source": [
        "# Anomaly Detection with Isolation Forest\n"
      ],
      "metadata": {
        "id": "6_Ao83krf-yZ"
      }
    },
    {
      "cell_type": "code",
      "source": [
        "isolation_forest = IsolationForest()\n",
        "isolation_forest.fit(scaled_data)\n",
        "anomaly_scores = isolation_forest.decision_function(scaled_data)"
      ],
      "metadata": {
        "id": "hWA79vz9g29A"
      },
      "execution_count": null,
      "outputs": []
    },
    {
      "cell_type": "markdown",
      "source": [
        "# Anomaly Detection with Topic Modeling (LD Allocation)"
      ],
      "metadata": {
        "id": "u0Ql3i56g8SZ"
      }
    },
    {
      "cell_type": "code",
      "source": [
        "topic_anomalies = None\n",
        "def process_emails(preprocess_emails, emails):\n",
        "  if emails:\n",
        "  # Preprocess Email Content\n",
        "    processed_emails = preprocess_emails(emails)\n",
        "    lda_model = LatentDirichletAllocation(n_components=3, random_state=42)\n",
        "    lda_model.fit(processed_emails)\n",
        "    topic_anomalies = lda_model.transform(processed_emails)\n",
        "\n",
        "  # Train LDA Model\n",
        "    dictionary = gensim.corpora.Dictionary(processed_emails)\n",
        "    corpus = [dictionary.doc2bow(email) for email in processed_emails]\n",
        "    lda_model = LatentDirichletAllocation(corpus=corpus, id2word=dictionary, num_topics=3)\n",
        "\n",
        "  return user_clusters, anomaly_scores, topic_anomalies\n"
      ],
      "metadata": {
        "id": "3qrvkTQqhAug"
      },
      "execution_count": null,
      "outputs": []
    },
    {
      "cell_type": "markdown",
      "source": [
        "# Predict Anomalies\n"
      ],
      "metadata": {
        "id": "GufStd37i3O1"
      }
    },
    {
      "cell_type": "code",
      "source": [
        "for name, model in models.items():\n",
        "  model.fit(X_train)\n",
        "\n",
        "def predict_anomalies(model, new_data):\n",
        "    scaled_new_data = scaler.transform(new_data)\n",
        "    return model.predict(scaled_new_data)\n",
        "\n",
        "# Analyze predictions (identify potential insider threats)\n",
        "if predictions[0] == -1:\n",
        "    print(f\"Anomaly detected for new user data. Further investigation recommended.\")\n",
        "else:\n",
        "    print(f\"New user behavior seems normal based on the {models['Isolation Forest'].__class__.__name__} model.\")"
      ],
      "metadata": {
        "id": "Y0IzHWxLjDIk"
      },
      "execution_count": null,
      "outputs": []
    }
  ]
}